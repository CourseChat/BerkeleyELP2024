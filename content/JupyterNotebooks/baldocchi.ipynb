{
 "cells": [
  {
   "cell_type": "markdown",
   "metadata": {},
   "source": [
    "## Properties of water\n",
    "- To be used in calculations of energy and evaporation"
   ]
  },
  {
   "cell_type": "markdown",
   "metadata": {},
   "source": [
    "\n",
    "| Property                              | Value                                   |\n",
    "| ------------------------------------- | --------------------------------------- |\n",
    "| molecular weight                      | 18 g mole-1                             |\n",
    "| melting point                         | 273.15 K                                |\n",
    "| boiling point, at sea level           | 373.15 K                                |\n",
    "| latent heat of vaporization           | 2.442 MJ kg-1 or 44.00 kJ mol-1 at 20 C |\n",
    "| latent heat of sublimation            | 2.826 MJ kg-1 or 51.0 kJmol-1 at 0 C    |\n",
    "| dialectric constant                   | 80                                      |\n",
    "| thermal conductivity                  | 0.599 W m-1 at 20 C                     |\n",
    "| heat capacity of water                | 4182 J kg-1 at 20 C                     |\n",
    "| molecular diffusivity,water in air    | 2.42 10-5 m2 s-1 at 20 C                |\n",
    "| Density at 4 C                        | 1000 kg m-3 at 4 C                      |\n",
    "| Density at 0 C                        |                                         |\n",
    "\n"
   ]
  },
  {
   "cell_type": "markdown",
   "metadata": {},
   "source": [
    "Certainly! Water potential is a concept that helps us understand how water moves in various systems, including pipes, weirs, and plants. It's essentially a measure of the potential energy of water relative to pure water under standard conditions. Let's break this down for each scenario:\n",
    "\n",
    "1. Water flowing through a pipe:\n",
    "\n",
    "In a pipe, water potential is primarily influenced by two factors:\n",
    "\n",
    "a) Pressure potential (Ψp): This is the hydrostatic pressure in the pipe. In pressurized pipes, this is positive and helps drive water flow.\n",
    "\n",
    "b) Gravitational potential (Ψg): This is related to the height of the water. Water at a higher elevation has higher gravitational potential.\n",
    "\n",
    "The total water potential (Ψ) in a pipe is the sum of these:\n",
    "\n",
    "Ψ = Ψp + Ψg\n",
    "\n",
    "Water flows from areas of higher total water potential to lower potential. In a pipe system, this is often manipulated by pumps and gravity to control water flow.\n",
    "\n",
    "2. Water flowing over a weir:\n",
    "\n",
    "In this case, water potential is mainly about gravitational potential:\n",
    "\n",
    "a) As water approaches the weir, it has higher gravitational potential.\n",
    "b) As it flows over the weir, it loses gravitational potential, converting it to kinetic energy.\n",
    "c) The difference in water level before and after the weir represents the change in water potential.\n",
    "\n",
    "3. Water moving through a tree from roots to leaves:\n",
    "\n",
    "This is a more complex system involving several components:\n",
    "\n",
    "a) Pressure potential (Ψp): \n",
    "   - Positive in roots due to root pressure\n",
    "   - Negative in xylem and leaves due to tension from transpiration pull\n",
    "\n",
    "b) Gravitational potential (Ψg): \n",
    "   - Decreases as water moves up the tree\n",
    "\n",
    "c) Osmotic potential (Ψs): \n",
    "   - Related to dissolved solutes in cell sap\n",
    "   - More negative in roots, helping to draw water in from soil\n",
    "\n",
    "d) Matric potential (Ψm): \n",
    "   - Related to the attraction of water to cell walls and soil particles\n",
    "   - Important in soil and cell walls\n",
    "\n",
    "The total water potential in plants is:\n",
    "\n",
    "Ψ = Ψp + Ψg + Ψs + Ψm\n",
    "\n",
    "Water moves from the soil (higher water potential) through the roots, up the xylem, and to the leaves (lower water potential) due to this gradient. The process is driven by transpiration, which creates very negative water potentials in the leaves, pulling water up the tree.\n",
    "\n",
    "Key points:\n",
    "1. Water always moves from higher to lower water potential.\n",
    "2. In plants, the water potential gradient is maintained by transpiration.\n",
    "3. Understanding water potential helps in managing irrigation, predicting plant water stress, and designing efficient water transport systems.\n",
    "\n",
    "This concept integrates physics, biology, and hydrology, showing how water behaves similarly across different systems, governed by the same fundamental principles."
   ]
  },
  {
   "cell_type": "markdown",
   "metadata": {},
   "source": [
    "Water Potential is the Thermodynamic Capacity for a Unit of Water to do Work\n",
    "• It Takes Energy to do Work\n",
    "• Work and Energy are Force times Distance\n",
    "• Water moves from ‘Downhill’ from High Energy Potential to Low\n",
    "• Water Potential has units of Pressure\n",
    "• Pressure is Energy per unit volume, or Force per unit Area\n",
    "\n",
    "Unit:\n",
    "1 Pa: 1 kg /m s^2\n",
    "1 Pa = 1 N/m²\n",
    "\n",
    "Pascal (Pa): The SI unit of pressure, equal to one newton per square meter (N/m²).\n",
    "Newton: N = kg·m/s² (mass × acceleration)\n",
    "Pascal: Pa = N/m² = (kg·m/s²)/m² = kg/(m·s²)"
   ]
  },
  {
   "cell_type": "code",
   "execution_count": null,
   "metadata": {},
   "outputs": [],
   "source": [
    "# example calculations of water moving a) through a pipe and b) over a weir\n"
   ]
  },
  {
   "cell_type": "markdown",
   "metadata": {},
   "source": [
    "The total water potential of a system consists of the sum of\n",
    "water potentials associated\n",
    "• Pressure\n",
    "• Gravity\n",
    "• Solutes\n",
    "• Matric\n",
    "\n",
    "• Water Moves across Gradients in Water Potential\n",
    "• Water Potential of Pure Water at Rest is Zero\n"
   ]
  },
  {
   "cell_type": "code",
   "execution_count": null,
   "metadata": {},
   "outputs": [],
   "source": [
    "# example of calculating the flow of water through a tree"
   ]
  }
 ],
 "metadata": {
  "language_info": {
   "name": "python"
  }
 },
 "nbformat": 4,
 "nbformat_minor": 2
}
